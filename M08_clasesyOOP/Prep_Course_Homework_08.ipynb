{
 "cells": [
  {
   "attachments": {},
   "cell_type": "markdown",
   "metadata": {},
   "source": [
    "## Clases y Programación Orientada a Objetos"
   ]
  },
  {
   "attachments": {},
   "cell_type": "markdown",
   "metadata": {},
   "source": [
    "1) Crear la clase vehículo que contenga los atributos:<br>\n",
    "Color<br>\n",
    "Si es moto, auto, camioneta ó camión<br>\n",
    "Cilindrada del motor"
   ]
  },
  {
   "cell_type": "code",
   "execution_count": 2,
   "metadata": {},
   "outputs": [],
   "source": [
    "class Vehiculos:\n",
    "    def __init__(self, color, tipo, cilindrada):\n",
    "        self.color=color\n",
    "        self.tipo=tipo\n",
    "        self.cilindrada=cilindrada"
   ]
  },
  {
   "attachments": {},
   "cell_type": "markdown",
   "metadata": {},
   "source": [
    "2) A la clase Vehiculo creada en el punto 1, agregar los siguientes métodos:<br>\n",
    "Acelerar<br>\n",
    "Frenar<br>\n",
    "Doblar<br>"
   ]
  },
  {
   "cell_type": "code",
   "execution_count": 4,
   "metadata": {},
   "outputs": [],
   "source": [
    "class Vehiculo:\n",
    "    def __init__(self, color, tipo, cilindrada):\n",
    "        self.color=color\n",
    "        self.tipo=tipo\n",
    "        self.cilindrada=cilindrada\n",
    "        self.velocidad=0\n",
    "        self.diercción=0\n",
    "\n",
    "    def acelerar(self, vel_aumento):\n",
    "        self.velocidad+=vel_aumento\n",
    "\n",
    "    def frenar(self, vel_decremento):\n",
    "        self.velocidad-=vel_decremento\n",
    "\n",
    "    def doblar(self, grados):\n",
    "        self.diercción+=grados\n",
    "\n"
   ]
  },
  {
   "attachments": {},
   "cell_type": "markdown",
   "metadata": {},
   "source": [
    "3) Instanciar 3 objetos de la clase vehículo y ejecutar sus métodos, probar luego el resultado"
   ]
  },
  {
   "cell_type": "code",
   "execution_count": 50,
   "metadata": {},
   "outputs": [],
   "source": [
    "gr63 = Vehiculo(\"gris\", \"mercedes\", 1.6)\n",
    "op81 = Vehiculo(\"naranja\",\"mclaren\", 1.6)\n",
    "cl16 = Vehiculo(\"rojo\", \"ferrari\", 1.6)"
   ]
  },
  {
   "cell_type": "code",
   "execution_count": 51,
   "metadata": {},
   "outputs": [],
   "source": [
    "gr63.acelerar(200)\n",
    "op81.acelerar(180)\n",
    "cl16.acelerar(240)\n",
    "cl16.doblar(85)\n",
    "cl16.frenar(235)"
   ]
  },
  {
   "attachments": {},
   "cell_type": "markdown",
   "metadata": {},
   "source": [
    "4) Agregar a la clase Vehiculo, un método que muestre su estado, es decir, a que velocidad se encuentra y su dirección. Y otro método que muestre color, tipo y cilindrada"
   ]
  },
  {
   "cell_type": "code",
   "execution_count": 49,
   "metadata": {},
   "outputs": [],
   "source": [
    "class Vehiculo:\n",
    "    def __init__(self, color, tipo, cilindrada):\n",
    "        self.color=color\n",
    "        self.tipo=tipo\n",
    "        self.cilindrada=cilindrada\n",
    "        self.velocidad=0\n",
    "        self.diercción=0\n",
    "\n",
    "    def acelerar(self, vel_aumento):\n",
    "        self.velocidad+=vel_aumento\n",
    "\n",
    "    def frenar(self, vel_decremento):\n",
    "        self.velocidad-=vel_decremento\n",
    "\n",
    "    def doblar(self, grados):\n",
    "        self.diercción+=grados\n",
    "\n",
    "    def estado(self):\n",
    "        print(\"la velocidad de {} es {}, y la dirección es {}\".format(self.tipo, self.velocidad, self.diercción))\n",
    "\n",
    "    def tipos(self):\n",
    "        print(\"el color del {} es {} y su cilindrada {}\".format(self.tipo, self.color, self.cilindrada))\n",
    "    "
   ]
  },
  {
   "cell_type": "code",
   "execution_count": 52,
   "metadata": {},
   "outputs": [
    {
     "name": "stdout",
     "output_type": "stream",
     "text": [
      "la velocidad de ferrari es 5, y la dirección es 85\n",
      "la velocidad de mclaren es 180, y la dirección es 0\n",
      "el color del mercedes es gris y su cilindrada 1.6\n"
     ]
    }
   ],
   "source": [
    "cl16.estado()\n",
    "op81.estado()\n",
    "gr63.tipos()"
   ]
  },
  {
   "attachments": {},
   "cell_type": "markdown",
   "metadata": {},
   "source": [
    "5) Crear una clase que permita utilizar las funciones creadas en la práctica del módulo 7<br>\n",
    "Verificar Primo<br>\n",
    "Valor modal<br>\n",
    "Conversión grados<br>\n",
    "Factorial<br>"
   ]
  },
  {
   "cell_type": "code",
   "execution_count": 68,
   "metadata": {},
   "outputs": [],
   "source": [
    "class Recicla:\n",
    "    def __init__(self) -> None:\n",
    "        pass\n",
    "\n",
    "    def verific_primo(self, numero):\n",
    "        primo = True\n",
    "        for i in range(1, numero):\n",
    "            if numero != i and numero%i ==0 and i != 1:\n",
    "                primo = False\n",
    "                break\n",
    "        return primo\n",
    "    \n",
    "    def maximo (self, lista):\n",
    "        cant={}\n",
    "        for a in lista:\n",
    "            if a in cant:\n",
    "                cant[a]+=1\n",
    "            else:\n",
    "                cant[a]=1\n",
    "        mayor=[]\n",
    "        for c, v in cant.items():\n",
    "            if v == max(cant.values()):\n",
    "                return c, v\n",
    "            \n",
    "    def conversion_grados(self, valor, origen, destino):\n",
    "        if origen == \"celsius\":\n",
    "            if destino == \"kelvin\":\n",
    "                return valor+273.15\n",
    "            elif destino == \"farenheit\":\n",
    "                return ((valor)*9/5)+32\n",
    "            else: \n",
    "                return valor \n",
    "        if origen == \"kelvin\":\n",
    "            if destino ==\"celsius\":\n",
    "                return valor-273.15\n",
    "            elif destino == \"farenheit\":\n",
    "                return ((valor-273.15)*9/5)+32\n",
    "            else: \n",
    "                return valor \n",
    "        if origen == \"farenheit\":\n",
    "            if destino == \"kelvin\":\n",
    "                return ((valor-32)*5/9)+273.15\n",
    "            elif destino == \"celsius\":\n",
    "                return ((valor-32)*5/9)\n",
    "            else: \n",
    "                return valor \n",
    "\n",
    "    def factorial(self, num):\n",
    "        if type(num)!=int or num<=0:\n",
    "            print(\"valor incorrecto\", num)\n",
    "        elif num == 1:\n",
    "            return num\n",
    "        else:\n",
    "            num = num*self.factorial(num-1)\n",
    "            return num\n",
    "\n",
    "\n",
    "\n",
    "    "
   ]
  },
  {
   "attachments": {},
   "cell_type": "markdown",
   "metadata": {},
   "source": [
    "6) Probar las funciones incorporadas en la clase del punto 5"
   ]
  },
  {
   "cell_type": "code",
   "execution_count": 71,
   "metadata": {},
   "outputs": [
    {
     "name": "stdout",
     "output_type": "stream",
     "text": [
      "False\n",
      "(2, 5)\n",
      "283.15\n",
      "720\n"
     ]
    }
   ],
   "source": [
    "i=Recicla()\n",
    "print(i.verific_primo(33))\n",
    "print(i.maximo([1,1,2,2,2,3,2,2,3,3]))\n",
    "print(i.conversion_grados(10, 'celsius', 'kelvin'))\n",
    "print(i.factorial(6))"
   ]
  },
  {
   "attachments": {},
   "cell_type": "markdown",
   "metadata": {},
   "source": [
    "7) Es necesario que la clase creada en el punto 5 contenga una lista, sobre la cual se apliquen las funciones incorporadas"
   ]
  },
  {
   "cell_type": "code",
   "execution_count": 108,
   "metadata": {},
   "outputs": [],
   "source": [
    "class Recicla:\n",
    "    def __init__(self, lista):\n",
    "        self.lista=lista\n",
    "\n",
    "    def verific_primo(self):\n",
    "        for i in self.lista:\n",
    "            if self.__verific_primo(i):\n",
    "                print(i, \"es primo\")\n",
    "            else:\n",
    "                print(i, \"no es primo\")\n",
    "    \n",
    "    def conversion_grados(self, origen, destino):\n",
    "        for i in self.lista:\n",
    "            print(\"el valor {} {} en {} es {}\".format(i, origen, destino, self.__conversion_grados(i, origen, destino)))\n",
    "            \n",
    "    def factorial(self):\n",
    "        for i in self.lista:\n",
    "            print(\"el factorial de {} es {}\". format(i, self.__factorial(i)))\n",
    "    \n",
    "    def maximo(self):\n",
    "        c,v =self.__maximo(self.lista)\n",
    "        print(\"el numero que mas se repite ({} veces) es {}\".format(v,c))\n",
    "    \n",
    "\n",
    "    def __verific_primo(self, numero):\n",
    "        primo = True\n",
    "        for i in range(1, numero):\n",
    "            if numero != i and numero%i ==0 and i != 1:\n",
    "                primo = False\n",
    "                break\n",
    "        return primo\n",
    "    \n",
    "    def __maximo (self, lista):\n",
    "        cant={}\n",
    "        for a in lista:\n",
    "            if a in cant:\n",
    "                cant[a]+=1\n",
    "            else:\n",
    "                cant[a]=1\n",
    "        for c, v in cant.items():\n",
    "            if v == max(cant.values()):\n",
    "                return c, v\n",
    "            \n",
    "    def __conversion_grados(self, valor, origen, destino):\n",
    "        if origen == \"celsius\":\n",
    "            if destino == \"kelvin\":\n",
    "                return valor+273.15\n",
    "            elif destino == \"farenheit\":\n",
    "                return ((valor)*9/5)+32\n",
    "            else: \n",
    "                return valor \n",
    "        if origen == \"kelvin\":\n",
    "            if destino ==\"celsius\":\n",
    "                return valor-273.15\n",
    "            elif destino == \"farenheit\":\n",
    "                return ((valor-273.15)*9/5)+32\n",
    "            else: \n",
    "                return valor \n",
    "        if origen == \"farenheit\":\n",
    "            if destino == \"kelvin\":\n",
    "                return ((valor-32)*5/9)+273.15\n",
    "            elif destino == \"celsius\":\n",
    "                return ((valor-32)*5/9)\n",
    "            else: \n",
    "                return valor \n",
    "\n",
    "    def __factorial(self, num):\n",
    "        if type(num)!=int or num<=0:\n",
    "            print(\"valor incorrecto\", num)\n",
    "        elif num == 1:\n",
    "            return num\n",
    "        else:\n",
    "            num = num*self.__factorial(num-1)\n",
    "            return num\n",
    "   "
   ]
  },
  {
   "cell_type": "code",
   "execution_count": 110,
   "metadata": {},
   "outputs": [
    {
     "name": "stdout",
     "output_type": "stream",
     "text": [
      "el factorial de 2 es 2\n",
      "el factorial de 3 es 6\n",
      "el factorial de 4 es 24\n",
      "el factorial de 3 es 6\n",
      "2 es primo\n",
      "3 es primo\n",
      "4 no es primo\n",
      "3 es primo\n",
      "el valor 2 celsius en farenheit es 35.6\n",
      "el valor 3 celsius en farenheit es 37.4\n",
      "el valor 4 celsius en farenheit es 39.2\n",
      "el valor 3 celsius en farenheit es 37.4\n",
      "el numero que mas se repite (2 veces) es 3\n"
     ]
    }
   ],
   "source": [
    "t = Recicla([2, 3, 4, 3])\n",
    "t.factorial()\n",
    "t.verific_primo()\n",
    "t.conversion_grados('celsius','farenheit')\n",
    "t.maximo()\n"
   ]
  },
  {
   "attachments": {},
   "cell_type": "markdown",
   "metadata": {},
   "source": [
    "8) Crear un archivo .py aparte y ubicar allí la clase generada en el punto anterior. Luego realizar la importación del módulo y probar alguna de sus funciones"
   ]
  },
  {
   "cell_type": "code",
   "execution_count": 121,
   "metadata": {},
   "outputs": [],
   "source": [
    "from recicla import *"
   ]
  },
  {
   "cell_type": "code",
   "execution_count": 120,
   "metadata": {},
   "outputs": [],
   "source": [
    "p= Recicla([2,3,5])"
   ]
  },
  {
   "cell_type": "code",
   "execution_count": 122,
   "metadata": {},
   "outputs": [
    {
     "name": "stdout",
     "output_type": "stream",
     "text": [
      "el factorial de 2 es 2\n",
      "el factorial de 3 es 6\n",
      "el factorial de 5 es 120\n"
     ]
    }
   ],
   "source": [
    "p.factorial()"
   ]
  },
  {
   "cell_type": "code",
   "execution_count": 127,
   "metadata": {},
   "outputs": [
    {
     "ename": "ImportError",
     "evalue": "cannot import name 'Recicla' from 'recicla' (c:\\Users\\Ines Sadir\\Desktop\\Python-Prep\\M08_clasesyOOP\\recicla.py)",
     "output_type": "error",
     "traceback": [
      "\u001b[1;31m---------------------------------------------------------------------------\u001b[0m",
      "\u001b[1;31mImportError\u001b[0m                               Traceback (most recent call last)",
      "Cell \u001b[1;32mIn[127], line 1\u001b[0m\n\u001b[1;32m----> 1\u001b[0m \u001b[38;5;28;01mfrom\u001b[39;00m \u001b[38;5;21;01mrecicla\u001b[39;00m \u001b[38;5;28;01mimport\u001b[39;00m Recicla \u001b[38;5;28;01mas\u001b[39;00m rec\n",
      "\u001b[1;31mImportError\u001b[0m: cannot import name 'Recicla' from 'recicla' (c:\\Users\\Ines Sadir\\Desktop\\Python-Prep\\M08_clasesyOOP\\recicla.py)"
     ]
    }
   ],
   "source": [
    "from recicla import Recicla as rec"
   ]
  },
  {
   "cell_type": "code",
   "execution_count": 126,
   "metadata": {},
   "outputs": [],
   "source": [
    "from herramientas import Herramientas as h"
   ]
  },
  {
   "cell_type": "code",
   "execution_count": null,
   "metadata": {},
   "outputs": [],
   "source": []
  }
 ],
 "metadata": {
  "interpreter": {
   "hash": "c85384e4cb51c8b72350f3a8712cc8351fdc3955e32a27f9b60c6242ab125f01"
  },
  "kernelspec": {
   "display_name": "Python 3 (ipykernel)",
   "language": "python",
   "name": "python3"
  },
  "language_info": {
   "codemirror_mode": {
    "name": "ipython",
    "version": 3
   },
   "file_extension": ".py",
   "mimetype": "text/x-python",
   "name": "python",
   "nbconvert_exporter": "python",
   "pygments_lexer": "ipython3",
   "version": "3.11.8"
  }
 },
 "nbformat": 4,
 "nbformat_minor": 4
}
