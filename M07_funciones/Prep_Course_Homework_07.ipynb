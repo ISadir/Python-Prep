{
 "cells": [
  {
   "attachments": {},
   "cell_type": "markdown",
   "metadata": {},
   "source": [
    "## Funciones"
   ]
  },
  {
   "attachments": {},
   "cell_type": "markdown",
   "metadata": {},
   "source": [
    "1) Crear una función que reciba un número como parámetro y devuelva True si es primo y False si no lo es"
   ]
  },
  {
   "cell_type": "code",
   "execution_count": 21,
   "metadata": {},
   "outputs": [],
   "source": [
    "def primo(numero):\n",
    "    primo = True\n",
    "    for i in range(1, numero):\n",
    "        if numero != i and numero%i ==0 and i != 1:\n",
    "            primo = False\n",
    "            break\n",
    "    return primo\n",
    "\n"
   ]
  },
  {
   "cell_type": "code",
   "execution_count": 24,
   "metadata": {},
   "outputs": [
    {
     "data": {
      "text/plain": [
       "True"
      ]
     },
     "execution_count": 24,
     "metadata": {},
     "output_type": "execute_result"
    }
   ],
   "source": [
    "primo(347)"
   ]
  },
  {
   "attachments": {},
   "cell_type": "markdown",
   "metadata": {},
   "source": [
    "2) Utilizando la función del punto 1, realizar otra función que reciba de parámetro una lista de números y devuelva sólo aquellos que son primos en otra lista"
   ]
  },
  {
   "cell_type": "code",
   "execution_count": 22,
   "metadata": {},
   "outputs": [],
   "source": [
    "def primos(lista):\n",
    "    listap=[]\n",
    "    for i in lista:\n",
    "        if primo(i):\n",
    "            listap.append(i)\n",
    "    return listap        "
   ]
  },
  {
   "cell_type": "code",
   "execution_count": 23,
   "metadata": {},
   "outputs": [
    {
     "data": {
      "text/plain": [
       "[1, 2, 5, 7, 11]"
      ]
     },
     "execution_count": 23,
     "metadata": {},
     "output_type": "execute_result"
    }
   ],
   "source": [
    "primos([1,2,4,5,6,7,8,11])"
   ]
  },
  {
   "attachments": {},
   "cell_type": "markdown",
   "metadata": {},
   "source": [
    "3) Crear una función que al recibir una lista de números, devuelva el que más se repite y cuántas veces lo hace. Si hay más de un \"más repetido\", que devuelva cualquiera"
   ]
  },
  {
   "cell_type": "code",
   "execution_count": 62,
   "metadata": {},
   "outputs": [
    {
     "data": {
      "text/plain": [
       "(3, 4)"
      ]
     },
     "execution_count": 62,
     "metadata": {},
     "output_type": "execute_result"
    }
   ],
   "source": [
    "def maximo (lista):\n",
    "    cant={}\n",
    "    for a in lista:\n",
    "        if a in cant:\n",
    "            cant[a]+=1\n",
    "        else:\n",
    "            cant[a]=1\n",
    "    mayor=[]\n",
    "    for c, v in cant.items():\n",
    "        if v == max(cant.values()):\n",
    "            return c, v\n",
    "\n",
    "\n",
    "maximo(lista=[1,2,3,3,3,3,4])"
   ]
  },
  {
   "attachments": {},
   "cell_type": "markdown",
   "metadata": {},
   "source": [
    "4) Crear una función que convierta entre grados Celsius, Farenheit y Kelvin<br>\n",
    "Fórmula 1\t: (°C × 9/5) + 32 = °F<br>\n",
    "Fórmula 2\t: °C + 273.15 = °K<br>\n",
    "Debe recibir 3 parámetros: el valor, la medida de orígen y la medida de destino\n"
   ]
  },
  {
   "cell_type": "code",
   "execution_count": 79,
   "metadata": {},
   "outputs": [],
   "source": [
    "def conversion_grados(valor, origen, destino):\n",
    "    if origen == \"celsius\":\n",
    "        if destino == \"kelvin\":\n",
    "            return valor+273.15\n",
    "        elif destino == \"farenheit\":\n",
    "            return ((valor)*9/5)+32\n",
    "        else: \n",
    "            return valor \n",
    "    if origen == \"kelvin\":\n",
    "        if destino ==\"celsius\":\n",
    "            return valor-273.15\n",
    "        elif destino == \"farenheit\":\n",
    "            return ((valor-273.15)*9/5)+32\n",
    "        else: \n",
    "            return valor \n",
    "    if origen == \"farenheit\":\n",
    "        if destino == \"kelvin\":\n",
    "            return ((valor-32)*5/9)+273.15\n",
    "        elif destino == \"celsius\":\n",
    "            return ((valor-32)*5/9)\n",
    "        else: \n",
    "            return valor \n",
    "    \n"
   ]
  },
  {
   "cell_type": "code",
   "execution_count": 77,
   "metadata": {},
   "outputs": [
    {
     "name": "stdout",
     "output_type": "stream",
     "text": [
      "1 grado Celsius a Celsius: 1\n",
      "1 grado Celsius a Kelvin: 274.15\n",
      "1 grado Celsius a Farenheit: 33.8\n",
      "1 grado Kelvin a Celsius: -272.15\n",
      "1 grado Kelvin a Kelvin: 1\n",
      "1 grado Kelvin a Farenheit: -457.87\n",
      "1 grado Farenheit a Celsius: -17.22222222222222\n",
      "1 grado Farenheit a Kelvin: 255.92777777777775\n",
      "1 grado Farenheit a Farenheit: 1\n"
     ]
    }
   ],
   "source": [
    "print('1 grado Celsius a Celsius:', conversion_grados(1, 'celsius', 'celsius'))\n",
    "print('1 grado Celsius a Kelvin:', conversion_grados(1, 'celsius', 'kelvin'))\n",
    "print('1 grado Celsius a Farenheit:', conversion_grados(1, 'celsius', 'farenheit'))\n",
    "print('1 grado Kelvin a Celsius:', conversion_grados(1, 'kelvin', 'celsius'))\n",
    "print('1 grado Kelvin a Kelvin:', conversion_grados(1, 'kelvin', 'kelvin'))\n",
    "print('1 grado Kelvin a Farenheit:', conversion_grados(1, 'kelvin', 'farenheit'))\n",
    "print('1 grado Farenheit a Celsius:', conversion_grados(1, 'farenheit', 'celsius'))\n",
    "print('1 grado Farenheit a Kelvin:', conversion_grados(1, 'farenheit', 'kelvin'))\n",
    "print('1 grado Farenheit a Farenheit:', conversion_grados(1, 'farenheit', 'farenheit'))"
   ]
  },
  {
   "attachments": {},
   "cell_type": "markdown",
   "metadata": {},
   "source": [
    "5) Iterando una lista con los tres valores posibles de temperatura que recibe la función del punto 5, hacer un print para cada combinación de los mismos:"
   ]
  },
  {
   "cell_type": "code",
   "execution_count": 80,
   "metadata": {},
   "outputs": [
    {
     "name": "stdout",
     "output_type": "stream",
     "text": [
      "paso de 1 grado kelvin a kelvin es igual a 1\n",
      "paso de 1 grado kelvin a celsius es igual a -272.15\n",
      "paso de 1 grado kelvin a farenheit es igual a -457.87\n",
      "paso de 1 grado celsius a kelvin es igual a 274.15\n",
      "paso de 1 grado celsius a celsius es igual a 1\n",
      "paso de 1 grado celsius a farenheit es igual a 33.8\n",
      "paso de 1 grado farenheit a kelvin es igual a 255.92777777777775\n",
      "paso de 1 grado farenheit a celsius es igual a -17.22222222222222\n",
      "paso de 1 grado farenheit a farenheit es igual a 1\n"
     ]
    }
   ],
   "source": [
    "unidades=['kelvin', 'celsius', 'farenheit']\n",
    "for i in unidades:\n",
    "    for j in unidades:\n",
    "        print(\"paso de 1 grado {} a {} es igual a {}\".format(i, j, conversion_grados(1, i, j) ))\n",
    "    \n",
    "    \n"
   ]
  },
  {
   "attachments": {},
   "cell_type": "markdown",
   "metadata": {},
   "source": [
    "6) Armar una función que devuelva el factorial de un número. Tener en cuenta que el usuario puede equivocarse y enviar de parámetro un número no entero o negativo"
   ]
  },
  {
   "cell_type": "code",
   "execution_count": 120,
   "metadata": {},
   "outputs": [
    {
     "data": {
      "text/plain": [
       "720"
      ]
     },
     "execution_count": 120,
     "metadata": {},
     "output_type": "execute_result"
    }
   ],
   "source": [
    "def factorial(num):\n",
    "    if type(num)!=int or num<=0:\n",
    "        print(\"valor incorrecto\", num)\n",
    "    elif num == 1:\n",
    "        return num\n",
    "    else:\n",
    "        num = num*factorial(num-1)\n",
    "        return num\n",
    "        \n",
    "factorial(6)"
   ]
  },
  {
   "cell_type": "code",
   "execution_count": null,
   "metadata": {},
   "outputs": [],
   "source": []
  }
 ],
 "metadata": {
  "interpreter": {
   "hash": "c85384e4cb51c8b72350f3a8712cc8351fdc3955e32a27f9b60c6242ab125f01"
  },
  "kernelspec": {
   "display_name": "Python 3 (ipykernel)",
   "language": "python",
   "name": "python3"
  },
  "language_info": {
   "codemirror_mode": {
    "name": "ipython",
    "version": 3
   },
   "file_extension": ".py",
   "mimetype": "text/x-python",
   "name": "python",
   "nbconvert_exporter": "python",
   "pygments_lexer": "ipython3",
   "version": "3.11.8"
  }
 },
 "nbformat": 4,
 "nbformat_minor": 4
}
