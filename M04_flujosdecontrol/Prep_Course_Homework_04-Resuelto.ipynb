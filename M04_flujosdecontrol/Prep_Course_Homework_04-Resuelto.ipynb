{
 "cells": [
  {
   "attachments": {},
   "cell_type": "markdown",
   "metadata": {},
   "source": [
    "## Flujos de Control"
   ]
  },
  {
   "attachments": {},
   "cell_type": "markdown",
   "metadata": {},
   "source": [
    "1) Crear una variable que contenga un elemento del conjunto de números enteros y luego imprimir por pantalla si es mayor o menor a cero"
   ]
  },
  {
   "cell_type": "code",
   "execution_count": 1,
   "metadata": {},
   "outputs": [
    {
     "name": "stdout",
     "output_type": "stream",
     "text": [
      "La variable es mayor a cero\n"
     ]
    }
   ],
   "source": [
    "a = 10\n",
    "if (a < 0):\n",
    "    print('La variable es menor a cero')\n",
    "elif (a > 0): \n",
    "    print('La variable es mayor a cero')\n",
    "else:\n",
    "    print('La variable es igual a cero')"
   ]
  },
  {
   "attachments": {},
   "cell_type": "markdown",
   "metadata": {},
   "source": [
    "2) Crear dos variables y un condicional que informe si son del mismo tipo de dato"
   ]
  },
  {
   "cell_type": "code",
   "execution_count": 5,
   "metadata": {},
   "outputs": [
    {
     "name": "stdout",
     "output_type": "stream",
     "text": [
      "Las variables son de tipos de dato diferentes\n"
     ]
    }
   ],
   "source": [
    "a = 2\n",
    "b = 'hola'\n",
    "if (type(a) == type(b)):\n",
    "    print('Las variables son del mismo tipo de dato')\n",
    "else:\n",
    "    print('Las variables son de tipos de dato diferentes')"
   ]
  },
  {
   "cell_type": "code",
   "execution_count": null,
   "metadata": {},
   "outputs": [],
   "source": [
    "# El formato utilizado a continuación en el print es conocido como f-string o formatted string literals en Python. Las f-strings permiten incrustar expresiones dentro de una cadena de texto mediante llaves {} y el prefijo \"f\" antes de la cadena. Dentro de las llaves, puedes colocar variables, expresiones o incluso invocar funciones para su evaluación e inclusión en la cadena resultante.\n",
    "a = 3.2\n",
    "b = 2\n",
    "print(f'Las variables {a} y {b} son del mismo tipo de dato')"
   ]
  },
  {
   "attachments": {},
   "cell_type": "markdown",
   "metadata": {},
   "source": [
    "3) Para los valores enteros del 1 al 20, imprimir por pantalla si es par o impar"
   ]
  },
  {
   "cell_type": "code",
   "execution_count": 7,
   "metadata": {},
   "outputs": [
    {
     "name": "stdout",
     "output_type": "stream",
     "text": [
      "El número  1  es impar\n",
      "El número  2  es par\n",
      "El número  3  es impar\n",
      "El número  4  es par\n",
      "El número  5  es impar\n",
      "El número  6  es par\n",
      "El número  7  es impar\n",
      "El número  8  es par\n",
      "El número  9  es impar\n",
      "El número  10  es par\n",
      "El número  11  es impar\n",
      "El número  12  es par\n",
      "El número  13  es impar\n",
      "El número  14  es par\n",
      "El número  15  es impar\n",
      "El número  16  es par\n",
      "El número  17  es impar\n",
      "El número  18  es par\n",
      "El número  19  es impar\n",
      "El número  20  es par\n"
     ]
    }
   ],
   "source": [
    "#resuelto con bucle for\n",
    "\n",
    "for i in range(1, 21):\n",
    "    if i % 2 == 0:\n",
    "        print('El número ', str(i), ' es par')\n",
    "    else:\n",
    "        print('El número ', str(i), ' es impar')"
   ]
  },
  {
   "cell_type": "code",
   "execution_count": null,
   "metadata": {},
   "outputs": [],
   "source": [
    "# resuelto con while\n",
    "\n",
    "i = 1\n",
    "while (i <= 20):\n",
    "    if (i % 2 == 0):\n",
    "        print(f'El numero {i} es par')\n",
    "    else:\n",
    "        print(f'El numero {i} es impar')\n",
    "    i = i + 1"
   ]
  },
  {
   "attachments": {},
   "cell_type": "markdown",
   "metadata": {},
   "source": [
    "4) En un ciclo for mostrar para los valores entre 0 y 5 el resultado de elevarlo a la potencia igual a 3"
   ]
  },
  {
   "cell_type": "code",
   "execution_count": 9,
   "metadata": {},
   "outputs": [
    {
     "name": "stdout",
     "output_type": "stream",
     "text": [
      "Valor: 0  Elevado a la 3ra potencia: 0\n",
      "Valor: 1  Elevado a la 3ra potencia: 1\n",
      "Valor: 2  Elevado a la 3ra potencia: 8\n",
      "Valor: 3  Elevado a la 3ra potencia: 27\n",
      "Valor: 4  Elevado a la 3ra potencia: 64\n",
      "Valor: 5  Elevado a la 3ra potencia: 125\n"
     ]
    }
   ],
   "source": [
    "for i in range(0, 6):\n",
    "    print('Valor:', str(i), ' Elevado a la 3ra potencia:', str(i**3))"
   ]
  },
  {
   "attachments": {},
   "cell_type": "markdown",
   "metadata": {},
   "source": [
    "5) Crear una variable que contenga un número entero y realizar un ciclo for la misma cantidad de ciclos"
   ]
  },
  {
   "cell_type": "code",
   "execution_count": 10,
   "metadata": {},
   "outputs": [
    {
     "name": "stdout",
     "output_type": "stream",
     "text": [
      "11\n"
     ]
    }
   ],
   "source": [
    "n = 12\n",
    "for i in range(0, n):\n",
    "    pass\n",
    "print(i)"
   ]
  },
  {
   "attachments": {},
   "cell_type": "markdown",
   "metadata": {},
   "source": [
    "6) Utilizar un ciclo while para realizar el factorial de un número guardado en una variable, sólo si la variable contiene un número entero mayor a 0"
   ]
  },
  {
   "cell_type": "code",
   "execution_count": 2,
   "metadata": {},
   "outputs": [
    {
     "name": "stdout",
     "output_type": "stream",
     "text": [
      "El factorial es 120\n"
     ]
    }
   ],
   "source": [
    "n = 5\n",
    "if (type(n) == int):\n",
    "    if (n > 0):\n",
    "        factorial = n\n",
    "        while (n > 2):\n",
    "            n = n - 1\n",
    "            factorial = factorial * n\n",
    "        print('El factorial es', factorial)\n",
    "    else:\n",
    "        print('La variable no es mayor a cero')\n",
    "else:\n",
    "    print('La variable no es un entero')\n",
    "    "
   ]
  },
  {
   "cell_type": "code",
   "execution_count": 5,
   "metadata": {},
   "outputs": [
    {
     "name": "stdout",
     "output_type": "stream",
     "text": [
      "120\n"
     ]
    }
   ],
   "source": [
    "# resolución con bucle for\n",
    "\n",
    "numero = 5\n",
    "factorial = 1\n",
    "for i in range(2, (numero + 1)):\n",
    "    factorial = i * factorial\n",
    "print(factorial)"
   ]
  },
  {
   "attachments": {},
   "cell_type": "markdown",
   "metadata": {},
   "source": [
    "7) Crear un ciclo for dentro de un ciclo while"
   ]
  },
  {
   "cell_type": "code",
   "execution_count": 6,
   "metadata": {},
   "outputs": [
    {
     "name": "stdout",
     "output_type": "stream",
     "text": [
      "Ciclo while nro 1\n",
      "Ciclo for nro 1\n",
      "Ciclo while nro 2\n",
      "Ciclo for nro 1\n",
      "Ciclo for nro 2\n",
      "Ciclo while nro 3\n",
      "Ciclo for nro 1\n",
      "Ciclo for nro 2\n",
      "Ciclo for nro 3\n",
      "Ciclo while nro 4\n",
      "Ciclo for nro 1\n",
      "Ciclo for nro 2\n",
      "Ciclo for nro 3\n",
      "Ciclo for nro 4\n"
     ]
    }
   ],
   "source": [
    "n = 1\n",
    "while n < 5:\n",
    "    print('Ciclo while nro ' + str(n))  # Imprime el número del ciclo while\n",
    "    for i in range(1, n+1): # como la función range(a, b) genera una secuencia de números desde a hasta b-1. Para que el bucle for incluya el número n, usamos range(1, n+1) en lugar de range(1, n).\n",
    "        print('Ciclo for nro ' + str(i))  # Imprime el número del ciclo for\n",
    "    n += 1"
   ]
  },
  {
   "attachments": {},
   "cell_type": "markdown",
   "metadata": {},
   "source": [
    "8) Crear un ciclo while dentro de un ciclo for"
   ]
  },
  {
   "cell_type": "code",
   "execution_count": 9,
   "metadata": {},
   "outputs": [],
   "source": [
    "n = 5\n",
    "for i in range(1, n):\n",
    "    while(n < 5):\n",
    "        n -= 1\n",
    "        print('Ciclo while nro ' + str(n))\n",
    "        print('Ciclo for nro ' + str(i))"
   ]
  },
  {
   "cell_type": "code",
   "execution_count": 11,
   "metadata": {},
   "outputs": [
    {
     "name": "stdout",
     "output_type": "stream",
     "text": [
      "Ciclo for nro 1\n",
      "Ciclo while nro 5\n",
      "Ciclo while nro 4\n",
      "Ciclo while nro 3\n",
      "Ciclo while nro 2\n",
      "Ciclo while nro 1\n",
      "Ciclo for nro 2\n",
      "Ciclo while nro 5\n",
      "Ciclo while nro 4\n",
      "Ciclo while nro 3\n",
      "Ciclo while nro 2\n",
      "Ciclo while nro 1\n",
      "Ciclo for nro 3\n",
      "Ciclo while nro 5\n",
      "Ciclo while nro 4\n",
      "Ciclo while nro 3\n",
      "Ciclo while nro 2\n",
      "Ciclo while nro 1\n",
      "Ciclo for nro 4\n",
      "Ciclo while nro 5\n",
      "Ciclo while nro 4\n",
      "Ciclo while nro 3\n",
      "Ciclo while nro 2\n",
      "Ciclo while nro 1\n"
     ]
    }
   ],
   "source": [
    "n = 5\n",
    "for i in range(1, n):\n",
    "    print('Ciclo for nro ' + str(i))  # Imprime el número del ciclo for\n",
    "    \n",
    "    n_temp = n  # Almacena el valor original de n en una variable temporal\n",
    "    \n",
    "    while n_temp > 0:  # Ciclo while que se ejecuta mientras n_temp sea mayor que 0\n",
    "        print('Ciclo while nro ' + str(n_temp))  # Imprime el número del ciclo while\n",
    "        n_temp -= 1\n",
    "        \n",
    "        if n_temp <= 0:\n",
    "            break  # Sale del ciclo while cuando n_temp sea menor o igual a 0\n",
    "    \n"
   ]
  },
  {
   "attachments": {},
   "cell_type": "markdown",
   "metadata": {},
   "source": [
    "9) Imprimir los números primos existentes entre 0 y 30"
   ]
  },
  {
   "cell_type": "code",
   "execution_count": 1,
   "metadata": {},
   "outputs": [
    {
     "name": "stdout",
     "output_type": "stream",
     "text": [
      "0\n",
      "1\n",
      "2\n",
      "3 2\n",
      "3\n",
      "4 2\n",
      "4 3\n",
      "5 2\n",
      "5 3\n",
      "5 4\n",
      "5\n",
      "6 2\n",
      "6 3\n",
      "6 4\n",
      "6 5\n",
      "7 2\n",
      "7 3\n",
      "7 4\n",
      "7 5\n",
      "7 6\n",
      "7\n",
      "8 2\n",
      "8 3\n",
      "8 4\n",
      "8 5\n",
      "8 6\n",
      "8 7\n",
      "9 2\n",
      "9 3\n",
      "9 4\n",
      "9 5\n",
      "9 6\n",
      "9 7\n",
      "9 8\n",
      "10 2\n",
      "10 3\n",
      "10 4\n",
      "10 5\n",
      "10 6\n",
      "10 7\n",
      "10 8\n",
      "10 9\n",
      "11 2\n",
      "11 3\n",
      "11 4\n",
      "11 5\n",
      "11 6\n",
      "11 7\n",
      "11 8\n",
      "11 9\n",
      "11 10\n",
      "11\n",
      "12 2\n",
      "12 3\n",
      "12 4\n",
      "12 5\n",
      "12 6\n",
      "12 7\n",
      "12 8\n",
      "12 9\n",
      "12 10\n",
      "12 11\n",
      "13 2\n",
      "13 3\n",
      "13 4\n",
      "13 5\n",
      "13 6\n",
      "13 7\n",
      "13 8\n",
      "13 9\n",
      "13 10\n",
      "13 11\n",
      "13 12\n",
      "13\n",
      "14 2\n",
      "14 3\n",
      "14 4\n",
      "14 5\n",
      "14 6\n",
      "14 7\n",
      "14 8\n",
      "14 9\n",
      "14 10\n",
      "14 11\n",
      "14 12\n",
      "14 13\n",
      "15 2\n",
      "15 3\n",
      "15 4\n",
      "15 5\n",
      "15 6\n",
      "15 7\n",
      "15 8\n",
      "15 9\n",
      "15 10\n",
      "15 11\n",
      "15 12\n",
      "15 13\n",
      "15 14\n",
      "16 2\n",
      "16 3\n",
      "16 4\n",
      "16 5\n",
      "16 6\n",
      "16 7\n",
      "16 8\n",
      "16 9\n",
      "16 10\n",
      "16 11\n",
      "16 12\n",
      "16 13\n",
      "16 14\n",
      "16 15\n",
      "17 2\n",
      "17 3\n",
      "17 4\n",
      "17 5\n",
      "17 6\n",
      "17 7\n",
      "17 8\n",
      "17 9\n",
      "17 10\n",
      "17 11\n",
      "17 12\n",
      "17 13\n",
      "17 14\n",
      "17 15\n",
      "17 16\n",
      "17\n",
      "18 2\n",
      "18 3\n",
      "18 4\n",
      "18 5\n",
      "18 6\n",
      "18 7\n",
      "18 8\n",
      "18 9\n",
      "18 10\n",
      "18 11\n",
      "18 12\n",
      "18 13\n",
      "18 14\n",
      "18 15\n",
      "18 16\n",
      "18 17\n",
      "19 2\n",
      "19 3\n",
      "19 4\n",
      "19 5\n",
      "19 6\n",
      "19 7\n",
      "19 8\n",
      "19 9\n",
      "19 10\n",
      "19 11\n",
      "19 12\n",
      "19 13\n",
      "19 14\n",
      "19 15\n",
      "19 16\n",
      "19 17\n",
      "19 18\n",
      "19\n",
      "20 2\n",
      "20 3\n",
      "20 4\n",
      "20 5\n",
      "20 6\n",
      "20 7\n",
      "20 8\n",
      "20 9\n",
      "20 10\n",
      "20 11\n",
      "20 12\n",
      "20 13\n",
      "20 14\n",
      "20 15\n",
      "20 16\n",
      "20 17\n",
      "20 18\n",
      "20 19\n",
      "21 2\n",
      "21 3\n",
      "21 4\n",
      "21 5\n",
      "21 6\n",
      "21 7\n",
      "21 8\n",
      "21 9\n",
      "21 10\n",
      "21 11\n",
      "21 12\n",
      "21 13\n",
      "21 14\n",
      "21 15\n",
      "21 16\n",
      "21 17\n",
      "21 18\n",
      "21 19\n",
      "21 20\n",
      "22 2\n",
      "22 3\n",
      "22 4\n",
      "22 5\n",
      "22 6\n",
      "22 7\n",
      "22 8\n",
      "22 9\n",
      "22 10\n",
      "22 11\n",
      "22 12\n",
      "22 13\n",
      "22 14\n",
      "22 15\n",
      "22 16\n",
      "22 17\n",
      "22 18\n",
      "22 19\n",
      "22 20\n",
      "22 21\n",
      "23 2\n",
      "23 3\n",
      "23 4\n",
      "23 5\n",
      "23 6\n",
      "23 7\n",
      "23 8\n",
      "23 9\n",
      "23 10\n",
      "23 11\n",
      "23 12\n",
      "23 13\n",
      "23 14\n",
      "23 15\n",
      "23 16\n",
      "23 17\n",
      "23 18\n",
      "23 19\n",
      "23 20\n",
      "23 21\n",
      "23 22\n",
      "23\n",
      "24 2\n",
      "24 3\n",
      "24 4\n",
      "24 5\n",
      "24 6\n",
      "24 7\n",
      "24 8\n",
      "24 9\n",
      "24 10\n",
      "24 11\n",
      "24 12\n",
      "24 13\n",
      "24 14\n",
      "24 15\n",
      "24 16\n",
      "24 17\n",
      "24 18\n",
      "24 19\n",
      "24 20\n",
      "24 21\n",
      "24 22\n",
      "24 23\n",
      "25 2\n",
      "25 3\n",
      "25 4\n",
      "25 5\n",
      "25 6\n",
      "25 7\n",
      "25 8\n",
      "25 9\n",
      "25 10\n",
      "25 11\n",
      "25 12\n",
      "25 13\n",
      "25 14\n",
      "25 15\n",
      "25 16\n",
      "25 17\n",
      "25 18\n",
      "25 19\n",
      "25 20\n",
      "25 21\n",
      "25 22\n",
      "25 23\n",
      "25 24\n",
      "26 2\n",
      "26 3\n",
      "26 4\n",
      "26 5\n",
      "26 6\n",
      "26 7\n",
      "26 8\n",
      "26 9\n",
      "26 10\n",
      "26 11\n",
      "26 12\n",
      "26 13\n",
      "26 14\n",
      "26 15\n",
      "26 16\n",
      "26 17\n",
      "26 18\n",
      "26 19\n",
      "26 20\n",
      "26 21\n",
      "26 22\n",
      "26 23\n",
      "26 24\n",
      "26 25\n",
      "27 2\n",
      "27 3\n",
      "27 4\n",
      "27 5\n",
      "27 6\n",
      "27 7\n",
      "27 8\n",
      "27 9\n",
      "27 10\n",
      "27 11\n",
      "27 12\n",
      "27 13\n",
      "27 14\n",
      "27 15\n",
      "27 16\n",
      "27 17\n",
      "27 18\n",
      "27 19\n",
      "27 20\n",
      "27 21\n",
      "27 22\n",
      "27 23\n",
      "27 24\n",
      "27 25\n",
      "27 26\n",
      "28 2\n",
      "28 3\n",
      "28 4\n",
      "28 5\n",
      "28 6\n",
      "28 7\n",
      "28 8\n",
      "28 9\n",
      "28 10\n",
      "28 11\n",
      "28 12\n",
      "28 13\n",
      "28 14\n",
      "28 15\n",
      "28 16\n",
      "28 17\n",
      "28 18\n",
      "28 19\n",
      "28 20\n",
      "28 21\n",
      "28 22\n",
      "28 23\n",
      "28 24\n",
      "28 25\n",
      "28 26\n",
      "28 27\n",
      "29 2\n",
      "29 3\n",
      "29 4\n",
      "29 5\n",
      "29 6\n",
      "29 7\n",
      "29 8\n",
      "29 9\n",
      "29 10\n",
      "29 11\n",
      "29 12\n",
      "29 13\n",
      "29 14\n",
      "29 15\n",
      "29 16\n",
      "29 17\n",
      "29 18\n",
      "29 19\n",
      "29 20\n",
      "29 21\n",
      "29 22\n",
      "29 23\n",
      "29 24\n",
      "29 25\n",
      "29 26\n",
      "29 27\n",
      "29 28\n",
      "29\n"
     ]
    }
   ],
   "source": [
    "tope_rango=30\n",
    "n = 0\n",
    "primo = True\n",
    "while (n < tope_rango):\n",
    "    for div in range(2, n):\n",
    "        print(n, div)\n",
    "        if (n % div == 0):\n",
    "            primo = False\n",
    "    if (primo):\n",
    "        print(n)\n",
    "    else:\n",
    "        primo = True\n",
    "    n += 1"
   ]
  },
  {
   "cell_type": "markdown",
   "metadata": {},
   "source": [
    "Código anterior explicado paso a paso:"
   ]
  },
  {
   "cell_type": "code",
   "execution_count": 3,
   "metadata": {},
   "outputs": [
    {
     "name": "stdout",
     "output_type": "stream",
     "text": [
      "0\n",
      "1\n",
      "2\n",
      "3\n",
      "5\n",
      "7\n",
      "11\n",
      "13\n",
      "17\n",
      "19\n",
      "23\n",
      "29\n"
     ]
    }
   ],
   "source": [
    "# Establecemos el valor máximo del rango\n",
    "tope_rango = 30\n",
    "\n",
    "# Inicializamos la variable n en 0\n",
    "n = 0\n",
    "\n",
    "# Inicializamos la variable primo como verdadera\n",
    "primo = True\n",
    "\n",
    "# Comenzamos un bucle while que se ejecutará mientras n sea menor que el tope_rango\n",
    "while n < tope_rango:\n",
    "    # Comenzamos un bucle for que itera desde 2 hasta n-1\n",
    "    for div in range(2, n):\n",
    "        # Comprobamos si n es divisible entre div\n",
    "        if n % div == 0:\n",
    "            # Si es divisible, marcamos primo como falso\n",
    "            primo = False\n",
    "    \n",
    "    # Verificamos si la variable primo es verdadera\n",
    "    if primo:\n",
    "        # Si es verdadera, significa que n es un número primo, por lo que lo imprimimos\n",
    "        print(n)\n",
    "    else:\n",
    "        # Si primo es falso, significa que n no es un número primo, por lo que lo restablecemos a verdadero\n",
    "        primo = True\n",
    "    \n",
    "    # Incrementamos n en 1 para pasar al siguiente número\n",
    "    n += 1\n"
   ]
  },
  {
   "attachments": {},
   "cell_type": "markdown",
   "metadata": {},
   "source": [
    "10) ¿Se puede mejorar el proceso del punto 9? Utilizar las sentencias break y/ó continue para tal fin"
   ]
  },
  {
   "cell_type": "code",
   "execution_count": 12,
   "metadata": {},
   "outputs": [
    {
     "name": "stdout",
     "output_type": "stream",
     "text": [
      "0\n",
      "1\n",
      "2\n",
      "3\n",
      "5\n",
      "7\n",
      "11\n",
      "13\n",
      "17\n",
      "19\n",
      "23\n",
      "29\n"
     ]
    }
   ],
   "source": [
    "n = 0\n",
    "primo = True\n",
    "while (n < tope_rango):\n",
    "    for div in range(2, n):\n",
    "        if (n % div == 0):\n",
    "            primo = False\n",
    "            break\n",
    "    if (primo):\n",
    "        print(n)\n",
    "    else:\n",
    "        primo = True\n",
    "    n += 1"
   ]
  },
  {
   "cell_type": "markdown",
   "metadata": {},
   "source": [
    "Código explicado paso a paso:"
   ]
  },
  {
   "cell_type": "code",
   "execution_count": null,
   "metadata": {},
   "outputs": [],
   "source": [
    "# Inicializamos la variable n en 0\n",
    "n = 0\n",
    "\n",
    "# Inicializamos la variable primo como verdadera\n",
    "primo = True\n",
    "\n",
    "# Comenzamos un bucle while que se ejecutará mientras n sea menor que el tope_rango\n",
    "while n < tope_rango:\n",
    "    # Comenzamos un bucle for que itera desde 2 hasta n-1\n",
    "    for div in range(2, n):\n",
    "        # Comprobamos si n es divisible entre div\n",
    "        if n % div == 0:\n",
    "            # Si es divisible, marcamos primo como falso y salimos del bucle for por la sentencia break\n",
    "            primo = False\n",
    "            break\n",
    "    \n",
    "    # Verificamos si la variable primo es verdadera\n",
    "    if primo:\n",
    "        # Si es verdadera, significa que n es un número primo, por lo que lo imprimimos\n",
    "        print(n)\n",
    "    else:\n",
    "        # Si primo es falso, significa que n no es un número primo, por lo que lo restablecemos a verdadero\n",
    "        primo = True\n",
    "    \n",
    "    # Incrementamos n en 1 para pasar al siguiente número\n",
    "    n += 1\n"
   ]
  },
  {
   "attachments": {},
   "cell_type": "markdown",
   "metadata": {},
   "source": [
    "11) En los puntos 9 y 10, se diseño un código que encuentra números primos y además se lo optimizó. ¿Es posible saber en qué medida se optimizó?"
   ]
  },
  {
   "cell_type": "code",
   "execution_count": 13,
   "metadata": {},
   "outputs": [
    {
     "name": "stdout",
     "output_type": "stream",
     "text": [
      "0\n",
      "1\n",
      "2\n",
      "3\n",
      "5\n",
      "7\n",
      "11\n",
      "13\n",
      "17\n",
      "19\n",
      "23\n",
      "29\n",
      "Cantidad de ciclos: 378\n"
     ]
    }
   ],
   "source": [
    "ciclos_sin_break = 0\n",
    "n = 0\n",
    "primo = True\n",
    "while (n < tope_rango):\n",
    "    for div in range(2, n):\n",
    "        ciclos_sin_break += 1\n",
    "        if (n % div == 0):\n",
    "            primo = False\n",
    "    if (primo):\n",
    "        print(n)\n",
    "    else:\n",
    "        primo = True\n",
    "    n += 1\n",
    "print('Cantidad de ciclos: ' + str(ciclos_sin_break))"
   ]
  },
  {
   "cell_type": "code",
   "execution_count": 14,
   "metadata": {},
   "outputs": [
    {
     "name": "stdout",
     "output_type": "stream",
     "text": [
      "0\n",
      "1\n",
      "2\n",
      "3\n",
      "5\n",
      "7\n",
      "11\n",
      "13\n",
      "17\n",
      "19\n",
      "23\n",
      "29\n",
      "Cantidad de ciclos: 134\n",
      "Se optimizó a un 0.3544973544973545% de ciclos aplicando break\n"
     ]
    }
   ],
   "source": [
    "ciclos_con_break = 0\n",
    "n = 0\n",
    "primo = True\n",
    "while (n < tope_rango):\n",
    "    for div in range(2, n):\n",
    "        ciclos_con_break += 1\n",
    "        if (n % div == 0):\n",
    "            primo = False\n",
    "            break\n",
    "    if (primo):\n",
    "        print(n)\n",
    "    else:\n",
    "        primo = True\n",
    "    n += 1\n",
    "print('Cantidad de ciclos: ' + str(ciclos_con_break))\n",
    "print('Se optimizó a un ' + str(ciclos_con_break/ciclos_sin_break) + '% de ciclos aplicando break')"
   ]
  },
  {
   "attachments": {},
   "cell_type": "markdown",
   "metadata": {},
   "source": [
    "12) Aplicando continue, armar un ciclo while que solo imprima los valores divisibles por 12, dentro del rango de números de 100 a 300"
   ]
  },
  {
   "cell_type": "code",
   "execution_count": 15,
   "metadata": {},
   "outputs": [
    {
     "name": "stdout",
     "output_type": "stream",
     "text": [
      "108  es divisible por 12\n",
      "120  es divisible por 12\n",
      "132  es divisible por 12\n",
      "144  es divisible por 12\n",
      "156  es divisible por 12\n",
      "168  es divisible por 12\n",
      "180  es divisible por 12\n",
      "192  es divisible por 12\n",
      "204  es divisible por 12\n",
      "216  es divisible por 12\n",
      "228  es divisible por 12\n",
      "240  es divisible por 12\n",
      "252  es divisible por 12\n",
      "264  es divisible por 12\n",
      "276  es divisible por 12\n",
      "288  es divisible por 12\n",
      "300  es divisible por 12\n"
     ]
    }
   ],
   "source": [
    "n = 99\n",
    "while(n <= 300):\n",
    "    n += 1\n",
    "    if (n % 12 != 0):\n",
    "        continue\n",
    "    print(n, ' es divisible por 12')"
   ]
  },
  {
   "cell_type": "markdown",
   "metadata": {},
   "source": [
    "Código explicado:"
   ]
  },
  {
   "cell_type": "code",
   "execution_count": 3,
   "metadata": {},
   "outputs": [
    {
     "name": "stdout",
     "output_type": "stream",
     "text": [
      "108 es divisible por 12\n",
      "120 es divisible por 12\n",
      "132 es divisible por 12\n",
      "144 es divisible por 12\n",
      "156 es divisible por 12\n",
      "168 es divisible por 12\n",
      "180 es divisible por 12\n",
      "192 es divisible por 12\n",
      "204 es divisible por 12\n",
      "216 es divisible por 12\n",
      "228 es divisible por 12\n",
      "240 es divisible por 12\n",
      "252 es divisible por 12\n",
      "264 es divisible por 12\n",
      "276 es divisible por 12\n",
      "288 es divisible por 12\n",
      "300 es divisible por 12\n"
     ]
    }
   ],
   "source": [
    "# Inicializamos la variable n en 99\n",
    "n = 99\n",
    "\n",
    "# Comenzamos un bucle while que se ejecutará mientras n sea menor o igual a 300\n",
    "while n <= 300:\n",
    "    # Incrementamos n en 1 para pasar al siguiente número\n",
    "    n += 1\n",
    "    \n",
    "    # Comprobamos si n no es divisible por 12 utilizando el operador de módulo (%)\n",
    "    if n % 12 != 0:\n",
    "        # Si n no es divisible por 12, se ejecuta la instrucción 'continue' para volver al inicio del bucle while\n",
    "        # y saltar a la siguiente iteración sin ejecutar el código que sigue\n",
    "        continue\n",
    "    \n",
    "    # Si se llega a esta línea de código, significa que n es divisible por 12\n",
    "    # por lo que se imprime el mensaje indicando que n es divisible por 12\n",
    "    print(n, 'es divisible por 12')\n"
   ]
  },
  {
   "attachments": {},
   "cell_type": "markdown",
   "metadata": {},
   "source": [
    "13) Utilizar la función **input()** que permite hacer ingresos por teclado, para encontrar números primos y dar la opción al usario de buscar el siguiente"
   ]
  },
  {
   "cell_type": "code",
   "execution_count": 2,
   "metadata": {},
   "outputs": [
    {
     "name": "stdout",
     "output_type": "stream",
     "text": [
      "1\n",
      "¿Desea encontrar el siguiente número primo?\n"
     ]
    }
   ],
   "source": [
    "n = 1\n",
    "sigue = 1\n",
    "primo = True\n",
    "while (sigue == 1):\n",
    "    for div in range(2, n):\n",
    "        \n",
    "        if (n % div == 0):\n",
    "            primo = False\n",
    "            break\n",
    "    if (primo):\n",
    "        print(n)\n",
    "        print('¿Desea encontrar el siguiente número primo?')\n",
    "        if (input() != '1'):\n",
    "            print('Se finaliza el proceso')\n",
    "            break\n",
    "    else:\n",
    "        primo = True\n",
    "    n += 1"
   ]
  },
  {
   "cell_type": "markdown",
   "metadata": {},
   "source": [
    "Código explicado."
   ]
  },
  {
   "cell_type": "code",
   "execution_count": 4,
   "metadata": {},
   "outputs": [
    {
     "name": "stdout",
     "output_type": "stream",
     "text": [
      "1\n",
      "¿Desea encontrar el siguiente número primo?\n",
      "2\n",
      "¿Desea encontrar el siguiente número primo?\n",
      "3\n",
      "¿Desea encontrar el siguiente número primo?\n",
      "5\n",
      "¿Desea encontrar el siguiente número primo?\n",
      "7\n",
      "¿Desea encontrar el siguiente número primo?\n",
      "11\n",
      "¿Desea encontrar el siguiente número primo?\n",
      "13\n",
      "¿Desea encontrar el siguiente número primo?\n",
      "17\n",
      "¿Desea encontrar el siguiente número primo?\n",
      "19\n",
      "¿Desea encontrar el siguiente número primo?\n",
      "Se finaliza el proceso\n"
     ]
    }
   ],
   "source": [
    "# Inicializamos la variable n en 1\n",
    "n = 1\n",
    "\n",
    "# Inicializamos la variable sigue en 1, esto indica si el proceso de búsqueda continúa\n",
    "sigue = 1\n",
    "\n",
    "# Inicializamos la variable primo como verdadera\n",
    "primo = True\n",
    "\n",
    "# Comenzamos un bucle while que se ejecutará mientras sigue sea igual a 1\n",
    "while sigue == 1:\n",
    "    # Comenzamos un bucle for que itera desde 2 hasta n-1\n",
    "    for div in range(2, n):\n",
    "        # Comprobamos si n es divisible entre div\n",
    "        if n % div == 0:\n",
    "            # Si es divisible, marcamos primo como falso y salimos del bucle for\n",
    "            primo = False\n",
    "            break\n",
    "    \n",
    "    # Verificamos si la variable primo es verdadera\n",
    "    if primo:\n",
    "        # Si es verdadera, significa que n es un número primo, por lo que lo imprimimos\n",
    "        print(n)\n",
    "        print('¿Desea encontrar el siguiente número primo?')\n",
    "        \n",
    "        # Leemos la entrada del usuario para determinar si se continúa o se finaliza el proceso\n",
    "        if input() != '1':\n",
    "            print('Se finaliza el proceso')\n",
    "            break\n",
    "    else:\n",
    "        # Si primo es falso, significa que n no es un número primo, por lo que lo restablecemos a verdadero\n",
    "        primo = True\n",
    "    \n",
    "    # Incrementamos n en 1 para pasar al siguiente número\n",
    "    n += 1\n"
   ]
  },
  {
   "attachments": {},
   "cell_type": "markdown",
   "metadata": {},
   "source": [
    "14) Crear un ciclo while que encuentre dentro del rango de 100 a 300 el primer número divisible por 3 y además múltiplo de 6"
   ]
  },
  {
   "cell_type": "code",
   "execution_count": 75,
   "metadata": {},
   "outputs": [
    {
     "name": "stdout",
     "output_type": "stream",
     "text": [
      "El número es:  102\n"
     ]
    }
   ],
   "source": [
    "n = 100\n",
    "while(n<=300):\n",
    "    if (n % 6 == 0):\n",
    "        print('El número es: ', str(n))\n",
    "        break\n",
    "    n += 1"
   ]
  },
  {
   "cell_type": "markdown",
   "metadata": {},
   "source": [
    "Código explicado:"
   ]
  },
  {
   "cell_type": "code",
   "execution_count": 6,
   "metadata": {},
   "outputs": [
    {
     "name": "stdout",
     "output_type": "stream",
     "text": [
      "El número es: 102\n"
     ]
    }
   ],
   "source": [
    "# Inicializamos la variable n en 100\n",
    "n = 100\n",
    "\n",
    "# Comenzamos un bucle while que se ejecutará mientras n sea menor o igual a 300\n",
    "while n <= 300:\n",
    "    # Comprobamos si n es divisible por 6 sin dejar residuo\n",
    "    if n % 6 == 0:\n",
    "        # Si es divisible, imprimimos el mensaje y el valor de n\n",
    "        print('El número es:', n)\n",
    "        # Salimos del bucle while utilizando la instrucción 'break'\n",
    "        break\n",
    "    \n",
    "    # Incrementamos n en 1 para pasar al siguiente número\n",
    "    n += 1\n"
   ]
  }
 ],
 "metadata": {
  "interpreter": {
   "hash": "c85384e4cb51c8b72350f3a8712cc8351fdc3955e32a27f9b60c6242ab125f01"
  },
  "kernelspec": {
   "display_name": "Python 3 (ipykernel)",
   "language": "python",
   "name": "python3"
  },
  "language_info": {
   "codemirror_mode": {
    "name": "ipython",
    "version": 3
   },
   "file_extension": ".py",
   "mimetype": "text/x-python",
   "name": "python",
   "nbconvert_exporter": "python",
   "pygments_lexer": "ipython3",
   "version": "3.11.8"
  }
 },
 "nbformat": 4,
 "nbformat_minor": 4
}
